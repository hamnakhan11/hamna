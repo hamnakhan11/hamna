{
  "nbformat": 4,
  "nbformat_minor": 0,
  "metadata": {
    "colab": {
      "provenance": [],
      "authorship_tag": "ABX9TyMm8tALW0jLa7wGY2Ks5fo8",
      "include_colab_link": true
    },
    "kernelspec": {
      "name": "python3",
      "display_name": "Python 3"
    },
    "language_info": {
      "name": "python"
    }
  },
  "cells": [
    {
      "cell_type": "markdown",
      "metadata": {
        "id": "view-in-github",
        "colab_type": "text"
      },
      "source": [
        "<a href=\"https://colab.research.google.com/github/hamnakhan11/hamna/blob/main/General_Health_Query_Chatbot_task4.ipynb\" target=\"_parent\"><img src=\"https://colab.research.google.com/assets/colab-badge.svg\" alt=\"Open In Colab\"/></a>"
      ]
    },
    {
      "cell_type": "code",
      "execution_count": 4,
      "metadata": {
        "colab": {
          "base_uri": "https://localhost:8080/"
        },
        "id": "-WCzzqwdT0Zr",
        "outputId": "0b01028d-e57a-442e-af07-42edaa8653e7"
      },
      "outputs": [
        {
          "output_type": "stream",
          "name": "stdout",
          "text": [
            "\u001b[2K   \u001b[90m━━━━━━━━━━━━━━━━━━━━━━━━━━━━━━━━━━━━━━━━\u001b[0m \u001b[32m9.9/9.9 MB\u001b[0m \u001b[31m6.5 MB/s\u001b[0m eta \u001b[36m0:00:00\u001b[0m\n",
            "\u001b[2K   \u001b[90m━━━━━━━━━━━━━━━━━━━━━━━━━━━━━━━━━━━━━━━━\u001b[0m \u001b[32m374.7/374.7 kB\u001b[0m \u001b[31m7.7 MB/s\u001b[0m eta \u001b[36m0:00:00\u001b[0m\n",
            "\u001b[?25h"
          ]
        }
      ],
      "source": [
        "!pip install --upgrade streamlit pyngrok transformers accelerate --quiet --no-deps --ignore-installed blinker\n"
      ]
    },
    {
      "cell_type": "code",
      "source": [
        "!pip install -U transformers huggingface-hub\n"
      ],
      "metadata": {
        "colab": {
          "base_uri": "https://localhost:8080/"
        },
        "id": "sKLF3Aq-UaZa",
        "outputId": "eefc16a8-e966-4660-d100-476958e9d7e3"
      },
      "execution_count": 5,
      "outputs": [
        {
          "output_type": "stream",
          "name": "stdout",
          "text": [
            "Requirement already satisfied: transformers in /usr/local/lib/python3.11/dist-packages (4.55.2)\n",
            "Requirement already satisfied: huggingface-hub in /usr/local/lib/python3.11/dist-packages (0.34.4)\n",
            "Requirement already satisfied: filelock in /usr/local/lib/python3.11/dist-packages (from transformers) (3.18.0)\n",
            "Requirement already satisfied: numpy>=1.17 in /usr/local/lib/python3.11/dist-packages (from transformers) (2.0.2)\n",
            "Requirement already satisfied: packaging>=20.0 in /usr/local/lib/python3.11/dist-packages (from transformers) (25.0)\n",
            "Requirement already satisfied: pyyaml>=5.1 in /usr/local/lib/python3.11/dist-packages (from transformers) (6.0.2)\n",
            "Requirement already satisfied: regex!=2019.12.17 in /usr/local/lib/python3.11/dist-packages (from transformers) (2024.11.6)\n",
            "Requirement already satisfied: requests in /usr/local/lib/python3.11/dist-packages (from transformers) (2.32.3)\n",
            "Requirement already satisfied: tokenizers<0.22,>=0.21 in /usr/local/lib/python3.11/dist-packages (from transformers) (0.21.4)\n",
            "Requirement already satisfied: safetensors>=0.4.3 in /usr/local/lib/python3.11/dist-packages (from transformers) (0.6.2)\n",
            "Requirement already satisfied: tqdm>=4.27 in /usr/local/lib/python3.11/dist-packages (from transformers) (4.67.1)\n",
            "Requirement already satisfied: fsspec>=2023.5.0 in /usr/local/lib/python3.11/dist-packages (from huggingface-hub) (2025.3.0)\n",
            "Requirement already satisfied: typing-extensions>=3.7.4.3 in /usr/local/lib/python3.11/dist-packages (from huggingface-hub) (4.14.1)\n",
            "Requirement already satisfied: hf-xet<2.0.0,>=1.1.3 in /usr/local/lib/python3.11/dist-packages (from huggingface-hub) (1.1.7)\n",
            "Requirement already satisfied: charset-normalizer<4,>=2 in /usr/local/lib/python3.11/dist-packages (from requests->transformers) (3.4.3)\n",
            "Requirement already satisfied: idna<4,>=2.5 in /usr/local/lib/python3.11/dist-packages (from requests->transformers) (3.10)\n",
            "Requirement already satisfied: urllib3<3,>=1.21.1 in /usr/local/lib/python3.11/dist-packages (from requests->transformers) (2.5.0)\n",
            "Requirement already satisfied: certifi>=2017.4.17 in /usr/local/lib/python3.11/dist-packages (from requests->transformers) (2025.8.3)\n"
          ]
        }
      ]
    },
    {
      "cell_type": "code",
      "source": [
        "# Streamlit chatbot for general health questions using TinyLlama\n",
        "\n",
        "from transformers import AutoTokenizer, AutoModelForCausalLM, pipeline\n",
        "import torch\n",
        "import textwrap # Import textwrap for formatting\n",
        "\n",
        "# Load model and tokenizer only once\n",
        "# @st.cache_resource # Removed Streamlit cache decorator\n",
        "def load_model():\n",
        "    model_name = \"TinyLlama/TinyLlama-1.1B-Chat-v1.0\"\n",
        "    tokenizer = AutoTokenizer.from_pretrained(model_name)\n",
        "    model = AutoModelForCausalLM.from_pretrained(\n",
        "        model_name,\n",
        "        torch_dtype=torch.float16 if torch.cuda.is_available() else torch.float32,\n",
        "        device_map=\"auto\"\n",
        "    )\n",
        "    return pipeline(\"text-generation\", model=model, tokenizer=tokenizer)\n",
        "\n",
        "# Build prompt with clear instructions\n",
        "def build_prompt(user_input):\n",
        "    return f\"\"\"[INST] You are a friendly medical assistant. Provide general, safe health information in simple language. Avoid giving any harmful or risky advice, and always remind the user to consult a licensed doctor for serious concerns.\n",
        "\n",
        "User: {user_input}\n",
        "Assistant:\"\"\"\n",
        "\n",
        "# Filter out dangerous queries\n",
        "def is_safe_query(query):\n",
        "    harmful_keywords = [\n",
        "        \"suicide\", \"overdose\", \"kill\", \"die\", \"death\", \"emergency\",\n",
        "        \"diagnose\", \"prescribe\", \"surgery\", \"bleeding\", \"poison\", \"inject\"\n",
        "    ]\n",
        "    return not any(word in query.lower() for word in harmful_keywords)\n",
        "\n",
        "# Get model response\n",
        "def get_response(pipe, user_input):\n",
        "    if not is_safe_query(user_input):\n",
        "        return \"⚠️ I'm not able to help with that. Please contact a licensed healthcare professional.\"\n",
        "    prompt = build_prompt(user_input)\n",
        "    result = pipe(prompt, max_new_tokens=512, temperature=0.7, do_sample=True)[0][\"generated_text\"] # Increased max_new_tokens\n",
        "\n",
        "    # Remove unwanted token echoes\n",
        "    if \"Assistant:\" in result:\n",
        "        response = result.split(\"Assistant:\")[-1].strip()\n",
        "        response = response.split(\"get_response\")[0].strip()\n",
        "        return response\n",
        "    return result.strip()\n",
        "\n",
        "# Load the model once\n",
        "pipe = load_model()\n"
      ],
      "metadata": {
        "colab": {
          "base_uri": "https://localhost:8080/"
        },
        "id": "FIR8uk0QUiM4",
        "outputId": "cc06bb88-0a80-465a-f3fe-61cfd301a44f"
      },
      "execution_count": 6,
      "outputs": [
        {
          "output_type": "stream",
          "name": "stderr",
          "text": [
            "Device set to use cpu\n"
          ]
        }
      ]
    },
    {
      "cell_type": "code",
      "source": [
        "while True:\n",
        "    user_input = input(\"You: \")\n",
        "    if not user_input:\n",
        "        break  # Exit the loop if the user enters an empty line\n",
        "    print(\"Assistant: \", get_response(pipe, user_input))"
      ],
      "metadata": {
        "colab": {
          "base_uri": "https://localhost:8080/"
        },
        "id": "Vzx6NfnnUub6",
        "outputId": "8b6bb8ce-1afb-4d74-9427-6c615af391c4"
      },
      "execution_count": 7,
      "outputs": [
        {
          "name": "stdout",
          "output_type": "stream",
          "text": [
            "You:  I feel fever\n",
            "Assistant:  Sure, here are some more natural remedies you can try:\n",
            "1. Epsom salt bath: Mix Epsom salt (sodium sulfate) in warm water, and soak\n",
            "You: I feel pain in my eye\n",
            "Assistant:  Yes, a cold compress can help ease pain, reduce swelling, and reduce inflammation. Apply a cold compress to your affected eye for 10-15 minutes, but make sure it's cool to\n",
            "You: \n"
          ]
        }
      ]
    }
  ]
}